{
 "cells": [
  {
   "cell_type": "markdown",
   "metadata": {},
   "source": [
    "# VacationPy\n",
    "----\n",
    "\n",
    "#### Google API"
   ]
  },
  {
   "cell_type": "code",
   "execution_count": 1,
   "metadata": {},
   "outputs": [],
   "source": [
    "#!jupyter nbextension enable --py gmaps"
   ]
  },
  {
   "cell_type": "code",
   "execution_count": 2,
   "metadata": {},
   "outputs": [],
   "source": [
    "# Dependencies and Setup\n",
    "import matplotlib.pyplot as plt\n",
    "import pandas as pd\n",
    "import numpy as np\n",
    "import requests\n",
    "import json\n",
    "import gmaps\n",
    "import os\n",
    "\n",
    "# Import API key\n",
    "from api_keys_all import google_api_key"
   ]
  },
  {
   "cell_type": "markdown",
   "metadata": {},
   "source": [
    "### Store Part I results into DataFrame\n",
    "* Load the csv exported in Part I to a DataFrame"
   ]
  },
  {
   "cell_type": "code",
   "execution_count": 3,
   "metadata": {},
   "outputs": [
    {
     "data": {
      "text/html": [
       "<div>\n",
       "<style scoped>\n",
       "    .dataframe tbody tr th:only-of-type {\n",
       "        vertical-align: middle;\n",
       "    }\n",
       "\n",
       "    .dataframe tbody tr th {\n",
       "        vertical-align: top;\n",
       "    }\n",
       "\n",
       "    .dataframe thead th {\n",
       "        text-align: right;\n",
       "    }\n",
       "</style>\n",
       "<table border=\"1\" class=\"dataframe\">\n",
       "  <thead>\n",
       "    <tr style=\"text-align: right;\">\n",
       "      <th></th>\n",
       "      <th>City_ID</th>\n",
       "      <th>City</th>\n",
       "      <th>Cloudiness</th>\n",
       "      <th>Country</th>\n",
       "      <th>Date</th>\n",
       "      <th>Humidity</th>\n",
       "      <th>Lat</th>\n",
       "      <th>Lng</th>\n",
       "      <th>Max Temp</th>\n",
       "      <th>Wind Speed</th>\n",
       "    </tr>\n",
       "  </thead>\n",
       "  <tbody>\n",
       "    <tr>\n",
       "      <th>0</th>\n",
       "      <td>0</td>\n",
       "      <td>Horta</td>\n",
       "      <td>69</td>\n",
       "      <td>PT</td>\n",
       "      <td>1579770424</td>\n",
       "      <td>73</td>\n",
       "      <td>38.53</td>\n",
       "      <td>-28.63</td>\n",
       "      <td>53.186</td>\n",
       "      <td>3.85</td>\n",
       "    </tr>\n",
       "    <tr>\n",
       "      <th>1</th>\n",
       "      <td>1</td>\n",
       "      <td>Esperance</td>\n",
       "      <td>90</td>\n",
       "      <td>AU</td>\n",
       "      <td>1579813499</td>\n",
       "      <td>82</td>\n",
       "      <td>-33.87</td>\n",
       "      <td>121.90</td>\n",
       "      <td>62.600</td>\n",
       "      <td>3.60</td>\n",
       "    </tr>\n",
       "    <tr>\n",
       "      <th>2</th>\n",
       "      <td>2</td>\n",
       "      <td>Torbay</td>\n",
       "      <td>75</td>\n",
       "      <td>CA</td>\n",
       "      <td>1579777710</td>\n",
       "      <td>79</td>\n",
       "      <td>47.67</td>\n",
       "      <td>-52.73</td>\n",
       "      <td>26.996</td>\n",
       "      <td>6.20</td>\n",
       "    </tr>\n",
       "    <tr>\n",
       "      <th>3</th>\n",
       "      <td>3</td>\n",
       "      <td>Los Llanos de Aridane</td>\n",
       "      <td>59</td>\n",
       "      <td>ES</td>\n",
       "      <td>1579766634</td>\n",
       "      <td>63</td>\n",
       "      <td>28.66</td>\n",
       "      <td>-17.92</td>\n",
       "      <td>60.800</td>\n",
       "      <td>2.60</td>\n",
       "    </tr>\n",
       "    <tr>\n",
       "      <th>4</th>\n",
       "      <td>4</td>\n",
       "      <td>Busselton</td>\n",
       "      <td>2</td>\n",
       "      <td>AU</td>\n",
       "      <td>1579815105</td>\n",
       "      <td>51</td>\n",
       "      <td>-33.65</td>\n",
       "      <td>115.33</td>\n",
       "      <td>66.992</td>\n",
       "      <td>3.89</td>\n",
       "    </tr>\n",
       "  </tbody>\n",
       "</table>\n",
       "</div>"
      ],
      "text/plain": [
       "   City_ID                   City  Cloudiness Country        Date  Humidity  \\\n",
       "0        0                  Horta          69      PT  1579770424        73   \n",
       "1        1              Esperance          90      AU  1579813499        82   \n",
       "2        2                 Torbay          75      CA  1579777710        79   \n",
       "3        3  Los Llanos de Aridane          59      ES  1579766634        63   \n",
       "4        4              Busselton           2      AU  1579815105        51   \n",
       "\n",
       "     Lat     Lng  Max Temp  Wind Speed  \n",
       "0  38.53  -28.63    53.186        3.85  \n",
       "1 -33.87  121.90    62.600        3.60  \n",
       "2  47.67  -52.73    26.996        6.20  \n",
       "3  28.66  -17.92    60.800        2.60  \n",
       "4 -33.65  115.33    66.992        3.89  "
      ]
     },
     "execution_count": 3,
     "metadata": {},
     "output_type": "execute_result"
    }
   ],
   "source": [
    "# File to Load\n",
    "cities_to_load = \"cities.csv\"\n",
    "\n",
    "# Read School and Student Data File and store into Pandas Data Frames\n",
    "cities_data = pd.read_csv(cities_to_load)\n",
    "cities_data.head()"
   ]
  },
  {
   "cell_type": "markdown",
   "metadata": {},
   "source": [
    "### Humidity Heatmap\n",
    "* Configure gmaps.\n",
    "* Use the Lat and Lng as locations and Humidity as the weight.\n",
    "* Add Heatmap layer to map."
   ]
  },
  {
   "cell_type": "code",
   "execution_count": 4,
   "metadata": {},
   "outputs": [],
   "source": [
    "# Configure gmaps with API key\n",
    "gmaps.configure(api_key = google_api_key)"
   ]
  },
  {
   "cell_type": "code",
   "execution_count": 5,
   "metadata": {},
   "outputs": [],
   "source": [
    "# Drop NA's\n",
    "cities_data = cities_data.dropna()\n",
    "\n",
    "# Store 'Lat' and 'Lng' into  locations \n",
    "locations = cities_data[[\"Lat\", \"Lng\"]].astype(float)\n",
    "\n",
    "# Convert Humidity to float and store\n",
    "Humidity = cities_data[\"Humidity\"].astype(float)"
   ]
  },
  {
   "cell_type": "code",
   "execution_count": 6,
   "metadata": {},
   "outputs": [],
   "source": [
    "# Configure Figure\n",
    "figure_layout = {\n",
    "    'width': '400px',\n",
    "    'height': '600px',\n",
    "    'margin': '0 auto 0 auto'\n",
    "}"
   ]
  },
  {
   "cell_type": "code",
   "execution_count": 7,
   "metadata": {},
   "outputs": [
    {
     "data": {
      "application/vnd.jupyter.widget-view+json": {
       "model_id": "d5f67fa2868b4a749752957db2498ad5",
       "version_major": 2,
       "version_minor": 0
      },
      "text/plain": [
       "Figure(layout=FigureLayout(height='600px', margin='0 auto 0 auto', width='400px'))"
      ]
     },
     "metadata": {},
     "output_type": "display_data"
    }
   ],
   "source": [
    "# Create a Heatmap layer\n",
    "fig = gmaps.figure(layout = figure_layout) #, map_type=\"HYBRID\")\n",
    "\n",
    "heat_layer = gmaps.heatmap_layer(locations, weights = Humidity, \n",
    "                                 dissipating = False, max_intensity = 100,\n",
    "                                 point_radius = 3)\n",
    "\n",
    "fig.add_layer(heat_layer)\n",
    "\n",
    "fig"
   ]
  },
  {
   "cell_type": "markdown",
   "metadata": {},
   "source": [
    "### Create new DataFrame fitting weather criteria\n",
    "* Narrow down the cities to fit weather conditions.\n",
    "* Drop any rows will null values."
   ]
  },
  {
   "cell_type": "code",
   "execution_count": 8,
   "metadata": {},
   "outputs": [
    {
     "data": {
      "text/html": [
       "<div>\n",
       "<style scoped>\n",
       "    .dataframe tbody tr th:only-of-type {\n",
       "        vertical-align: middle;\n",
       "    }\n",
       "\n",
       "    .dataframe tbody tr th {\n",
       "        vertical-align: top;\n",
       "    }\n",
       "\n",
       "    .dataframe thead th {\n",
       "        text-align: right;\n",
       "    }\n",
       "</style>\n",
       "<table border=\"1\" class=\"dataframe\">\n",
       "  <thead>\n",
       "    <tr style=\"text-align: right;\">\n",
       "      <th></th>\n",
       "      <th>City_ID</th>\n",
       "      <th>City</th>\n",
       "      <th>Cloudiness</th>\n",
       "      <th>Country</th>\n",
       "      <th>Date</th>\n",
       "      <th>Humidity</th>\n",
       "      <th>Lat</th>\n",
       "      <th>Lng</th>\n",
       "      <th>Max Temp</th>\n",
       "      <th>Wind Speed</th>\n",
       "    </tr>\n",
       "  </thead>\n",
       "  <tbody>\n",
       "    <tr>\n",
       "      <th>25</th>\n",
       "      <td>25</td>\n",
       "      <td>Rikitea</td>\n",
       "      <td>0</td>\n",
       "      <td>PF</td>\n",
       "      <td>1579789972</td>\n",
       "      <td>79</td>\n",
       "      <td>-23.12</td>\n",
       "      <td>-134.97</td>\n",
       "      <td>79.304</td>\n",
       "      <td>7.82</td>\n",
       "    </tr>\n",
       "    <tr>\n",
       "      <th>44</th>\n",
       "      <td>44</td>\n",
       "      <td>Valdivia</td>\n",
       "      <td>0</td>\n",
       "      <td>CL</td>\n",
       "      <td>1579773060</td>\n",
       "      <td>47</td>\n",
       "      <td>-39.81</td>\n",
       "      <td>-73.25</td>\n",
       "      <td>75.200</td>\n",
       "      <td>4.10</td>\n",
       "    </tr>\n",
       "    <tr>\n",
       "      <th>54</th>\n",
       "      <td>54</td>\n",
       "      <td>Reconquista</td>\n",
       "      <td>0</td>\n",
       "      <td>AR</td>\n",
       "      <td>1579771223</td>\n",
       "      <td>59</td>\n",
       "      <td>-29.15</td>\n",
       "      <td>-59.65</td>\n",
       "      <td>77.558</td>\n",
       "      <td>2.19</td>\n",
       "    </tr>\n",
       "    <tr>\n",
       "      <th>141</th>\n",
       "      <td>141</td>\n",
       "      <td>Gwadar</td>\n",
       "      <td>0</td>\n",
       "      <td>PK</td>\n",
       "      <td>1579833386</td>\n",
       "      <td>54</td>\n",
       "      <td>25.12</td>\n",
       "      <td>62.33</td>\n",
       "      <td>71.132</td>\n",
       "      <td>3.14</td>\n",
       "    </tr>\n",
       "    <tr>\n",
       "      <th>241</th>\n",
       "      <td>241</td>\n",
       "      <td>Carnarvon</td>\n",
       "      <td>0</td>\n",
       "      <td>AU</td>\n",
       "      <td>1579816538</td>\n",
       "      <td>69</td>\n",
       "      <td>-24.87</td>\n",
       "      <td>113.63</td>\n",
       "      <td>75.200</td>\n",
       "      <td>4.60</td>\n",
       "    </tr>\n",
       "    <tr>\n",
       "      <th>281</th>\n",
       "      <td>281</td>\n",
       "      <td>Copiapo</td>\n",
       "      <td>0</td>\n",
       "      <td>CL</td>\n",
       "      <td>1579773992</td>\n",
       "      <td>47</td>\n",
       "      <td>-27.37</td>\n",
       "      <td>-70.33</td>\n",
       "      <td>77.000</td>\n",
       "      <td>6.20</td>\n",
       "    </tr>\n",
       "    <tr>\n",
       "      <th>494</th>\n",
       "      <td>494</td>\n",
       "      <td>Marsh Harbour</td>\n",
       "      <td>0</td>\n",
       "      <td>BS</td>\n",
       "      <td>1579780596</td>\n",
       "      <td>73</td>\n",
       "      <td>26.54</td>\n",
       "      <td>-77.06</td>\n",
       "      <td>71.366</td>\n",
       "      <td>8.61</td>\n",
       "    </tr>\n",
       "  </tbody>\n",
       "</table>\n",
       "</div>"
      ],
      "text/plain": [
       "     City_ID           City  Cloudiness Country        Date  Humidity    Lat  \\\n",
       "25        25        Rikitea           0      PF  1579789972        79 -23.12   \n",
       "44        44       Valdivia           0      CL  1579773060        47 -39.81   \n",
       "54        54    Reconquista           0      AR  1579771223        59 -29.15   \n",
       "141      141         Gwadar           0      PK  1579833386        54  25.12   \n",
       "241      241      Carnarvon           0      AU  1579816538        69 -24.87   \n",
       "281      281        Copiapo           0      CL  1579773992        47 -27.37   \n",
       "494      494  Marsh Harbour           0      BS  1579780596        73  26.54   \n",
       "\n",
       "        Lng  Max Temp  Wind Speed  \n",
       "25  -134.97    79.304        7.82  \n",
       "44   -73.25    75.200        4.10  \n",
       "54   -59.65    77.558        2.19  \n",
       "141   62.33    71.132        3.14  \n",
       "241  113.63    75.200        4.60  \n",
       "281  -70.33    77.000        6.20  \n",
       "494  -77.06    71.366        8.61  "
      ]
     },
     "execution_count": 8,
     "metadata": {},
     "output_type": "execute_result"
    }
   ],
   "source": [
    "# DataFrame with ideal weather condition\n",
    "cities_data_ideal = cities_data.loc[(cities_data['Max Temp'] < 80) \\\n",
    "                                    & (cities_data['Max Temp'] > 70) \\\n",
    "                                    & (cities_data['Wind Speed'] < 10) \\\n",
    "                                    & (cities_data['Cloudiness'] == 0) \\\n",
    "                                    , :]\n",
    "cities_data_ideal"
   ]
  },
  {
   "cell_type": "markdown",
   "metadata": {},
   "source": [
    "### Hotel Map\n",
    "* Store into variable named `hotel_df`.\n",
    "* Add a \"Hotel Name\" column to the DataFrame.\n",
    "* Set parameters to search for hotels with 5000 meters.\n",
    "* Hit the Google Places API for each city's coordinates.\n",
    "* Store the first Hotel result into the DataFrame.\n",
    "* Plot markers on top of the heatmap."
   ]
  },
  {
   "cell_type": "code",
   "execution_count": 9,
   "metadata": {},
   "outputs": [],
   "source": [
    "# New Varible\n",
    "hotel_df = []"
   ]
  },
  {
   "cell_type": "code",
   "execution_count": 10,
   "metadata": {},
   "outputs": [],
   "source": [
    "# Setting Coordinates and Some Parameters:\n",
    "locations_ideal = cities_data_ideal[[\"Lat\", \"Lng\"]].astype(float)\n",
    "locations_ideal = locations_ideal.values.tolist()\n",
    "ideal_cities = len(locations_ideal)\n",
    "target_radius = 5000\n",
    "target_type = \"Hotel\""
   ]
  },
  {
   "cell_type": "code",
   "execution_count": 11,
   "metadata": {},
   "outputs": [],
   "source": [
    "# Search for hotels around 5000 meters and calls to Google API\n",
    "for C in range(ideal_cities):\n",
    "    target_coordinates = str(locations_ideal[C][0]) + \", \" + str(locations_ideal[C][1])\n",
    "    params = {\n",
    "        \"location\": target_coordinates,\n",
    "        \"radius\": target_radius,\n",
    "        \"type\": target_type,\n",
    "        \"key\": google_api_key\n",
    "    }\n",
    "    \n",
    "    # base url\n",
    "    base_url = \"https://maps.googleapis.com/maps/api/place/nearbysearch/json\"\n",
    "    response = requests.get(base_url, params = params).json()\n",
    "    #print(json.dumps(response, indent = 4, sort_keys = True))\n",
    "    hotel_df.append(response['results'][1]['name'])"
   ]
  },
  {
   "cell_type": "code",
   "execution_count": 12,
   "metadata": {},
   "outputs": [
    {
     "name": "stderr",
     "output_type": "stream",
     "text": [
      "/Applications/anaconda/envs/PythonData/lib/python3.7/site-packages/ipykernel_launcher.py:1: SettingWithCopyWarning: \n",
      "A value is trying to be set on a copy of a slice from a DataFrame.\n",
      "Try using .loc[row_indexer,col_indexer] = value instead\n",
      "\n",
      "See the caveats in the documentation: http://pandas.pydata.org/pandas-docs/stable/user_guide/indexing.html#returning-a-view-versus-a-copy\n",
      "  \"\"\"Entry point for launching an IPython kernel.\n"
     ]
    },
    {
     "data": {
      "text/html": [
       "<div>\n",
       "<style scoped>\n",
       "    .dataframe tbody tr th:only-of-type {\n",
       "        vertical-align: middle;\n",
       "    }\n",
       "\n",
       "    .dataframe tbody tr th {\n",
       "        vertical-align: top;\n",
       "    }\n",
       "\n",
       "    .dataframe thead th {\n",
       "        text-align: right;\n",
       "    }\n",
       "</style>\n",
       "<table border=\"1\" class=\"dataframe\">\n",
       "  <thead>\n",
       "    <tr style=\"text-align: right;\">\n",
       "      <th></th>\n",
       "      <th>City_ID</th>\n",
       "      <th>City</th>\n",
       "      <th>Cloudiness</th>\n",
       "      <th>Country</th>\n",
       "      <th>Date</th>\n",
       "      <th>Humidity</th>\n",
       "      <th>Lat</th>\n",
       "      <th>Lng</th>\n",
       "      <th>Max Temp</th>\n",
       "      <th>Wind Speed</th>\n",
       "      <th>Hotel Name</th>\n",
       "    </tr>\n",
       "  </thead>\n",
       "  <tbody>\n",
       "    <tr>\n",
       "      <th>25</th>\n",
       "      <td>25</td>\n",
       "      <td>Rikitea</td>\n",
       "      <td>0</td>\n",
       "      <td>PF</td>\n",
       "      <td>1579789972</td>\n",
       "      <td>79</td>\n",
       "      <td>-23.12</td>\n",
       "      <td>-134.97</td>\n",
       "      <td>79.304</td>\n",
       "      <td>7.82</td>\n",
       "      <td>Pension Maro'i</td>\n",
       "    </tr>\n",
       "    <tr>\n",
       "      <th>44</th>\n",
       "      <td>44</td>\n",
       "      <td>Valdivia</td>\n",
       "      <td>0</td>\n",
       "      <td>CL</td>\n",
       "      <td>1579773060</td>\n",
       "      <td>47</td>\n",
       "      <td>-39.81</td>\n",
       "      <td>-73.25</td>\n",
       "      <td>75.200</td>\n",
       "      <td>4.10</td>\n",
       "      <td>Hostal Entre Rios</td>\n",
       "    </tr>\n",
       "    <tr>\n",
       "      <th>54</th>\n",
       "      <td>54</td>\n",
       "      <td>Reconquista</td>\n",
       "      <td>0</td>\n",
       "      <td>AR</td>\n",
       "      <td>1579771223</td>\n",
       "      <td>59</td>\n",
       "      <td>-29.15</td>\n",
       "      <td>-59.65</td>\n",
       "      <td>77.558</td>\n",
       "      <td>2.19</td>\n",
       "      <td>Grand Hotel</td>\n",
       "    </tr>\n",
       "    <tr>\n",
       "      <th>141</th>\n",
       "      <td>141</td>\n",
       "      <td>Gwadar</td>\n",
       "      <td>0</td>\n",
       "      <td>PK</td>\n",
       "      <td>1579833386</td>\n",
       "      <td>54</td>\n",
       "      <td>25.12</td>\n",
       "      <td>62.33</td>\n",
       "      <td>71.132</td>\n",
       "      <td>3.14</td>\n",
       "      <td>National Bank of Pakistan (NBP)</td>\n",
       "    </tr>\n",
       "    <tr>\n",
       "      <th>241</th>\n",
       "      <td>241</td>\n",
       "      <td>Carnarvon</td>\n",
       "      <td>0</td>\n",
       "      <td>AU</td>\n",
       "      <td>1579816538</td>\n",
       "      <td>69</td>\n",
       "      <td>-24.87</td>\n",
       "      <td>113.63</td>\n",
       "      <td>75.200</td>\n",
       "      <td>4.60</td>\n",
       "      <td>Hospitality Carnarvon</td>\n",
       "    </tr>\n",
       "  </tbody>\n",
       "</table>\n",
       "</div>"
      ],
      "text/plain": [
       "     City_ID         City  Cloudiness Country        Date  Humidity    Lat  \\\n",
       "25        25      Rikitea           0      PF  1579789972        79 -23.12   \n",
       "44        44     Valdivia           0      CL  1579773060        47 -39.81   \n",
       "54        54  Reconquista           0      AR  1579771223        59 -29.15   \n",
       "141      141       Gwadar           0      PK  1579833386        54  25.12   \n",
       "241      241    Carnarvon           0      AU  1579816538        69 -24.87   \n",
       "\n",
       "        Lng  Max Temp  Wind Speed                       Hotel Name  \n",
       "25  -134.97    79.304        7.82                   Pension Maro'i  \n",
       "44   -73.25    75.200        4.10                Hostal Entre Rios  \n",
       "54   -59.65    77.558        2.19                      Grand Hotel  \n",
       "141   62.33    71.132        3.14  National Bank of Pakistan (NBP)  \n",
       "241  113.63    75.200        4.60            Hospitality Carnarvon  "
      ]
     },
     "execution_count": 12,
     "metadata": {},
     "output_type": "execute_result"
    }
   ],
   "source": [
    "cities_data_ideal['Hotel Name'] = hotel_df\n",
    "cities_data_ideal.head()"
   ]
  },
  {
   "cell_type": "code",
   "execution_count": 13,
   "metadata": {},
   "outputs": [],
   "source": [
    "narrowed_city_df = cities_data_ideal"
   ]
  },
  {
   "cell_type": "code",
   "execution_count": 14,
   "metadata": {},
   "outputs": [],
   "source": [
    "hotel_df = cities_data_ideal"
   ]
  },
  {
   "cell_type": "code",
   "execution_count": 15,
   "metadata": {},
   "outputs": [],
   "source": [
    "# NOTE: Do not change any of the code in this cell\n",
    "\n",
    "# Using the template add the hotel marks to the heatmap\n",
    "info_box_template = \"\"\"\n",
    "<dl>\n",
    "<dt>Name</dt><dd>{Hotel Name}</dd>\n",
    "<dt>City</dt><dd>{City}</dd>\n",
    "<dt>Country</dt><dd>{Country}</dd>\n",
    "</dl>\n",
    "\"\"\"\n",
    "# Store the DataFrame Row\n",
    "# NOTE: be sure to update with your DataFrame name\n",
    "hotel_info = [info_box_template.format(**row) for index, row in narrowed_city_df.iterrows()]\n",
    "locations = hotel_df[[\"Lat\", \"Lng\"]]"
   ]
  },
  {
   "cell_type": "code",
   "execution_count": 16,
   "metadata": {},
   "outputs": [
    {
     "data": {
      "application/vnd.jupyter.widget-view+json": {
       "model_id": "40ee0286e56b4193a0cf2436f70a4579",
       "version_major": 2,
       "version_minor": 0
      },
      "text/plain": [
       "Figure(layout=FigureLayout(height='600px', margin='0 auto 0 auto', width='400px'))"
      ]
     },
     "metadata": {},
     "output_type": "display_data"
    }
   ],
   "source": [
    "# Add marker layer ontop of heat map\n",
    "\n",
    "marker_layer = gmaps.marker_layer(locations, info_box_content = hotel_info)\n",
    "\n",
    "fig = gmaps.figure(layout = figure_layout)\n",
    "\n",
    "fig.add_layer(heat_layer)\n",
    "\n",
    "fig.add_layer(marker_layer)\n",
    "\n",
    "# Display Map\n",
    "fig"
   ]
  },
  {
   "cell_type": "code",
   "execution_count": 131,
   "metadata": {},
   "outputs": [
    {
     "data": {
      "application/vnd.jupyter.widget-view+json": {
       "model_id": "02f16926be444a7985b2bd51251a4293",
       "version_major": 2,
       "version_minor": 0
      },
      "text/plain": [
       "Figure(layout=FigureLayout(height='600px', margin='0 auto 0 auto', width='400px'))"
      ]
     },
     "metadata": {},
     "output_type": "display_data"
    }
   ],
   "source": []
  },
  {
   "cell_type": "code",
   "execution_count": null,
   "metadata": {},
   "outputs": [],
   "source": []
  }
 ],
 "metadata": {
  "kernelspec": {
   "display_name": "Python 3",
   "language": "python",
   "name": "python3"
  },
  "language_info": {
   "codemirror_mode": {
    "name": "ipython",
    "version": 3
   },
   "file_extension": ".py",
   "mimetype": "text/x-python",
   "name": "python",
   "nbconvert_exporter": "python",
   "pygments_lexer": "ipython3",
   "version": "3.7.5"
  },
  "latex_envs": {
   "LaTeX_envs_menu_present": true,
   "autoclose": false,
   "autocomplete": true,
   "bibliofile": "biblio.bib",
   "cite_by": "apalike",
   "current_citInitial": 1,
   "eqLabelWithNumbers": true,
   "eqNumInitial": 1,
   "hotkeys": {
    "equation": "Ctrl-E",
    "itemize": "Ctrl-I"
   },
   "labels_anchors": false,
   "latex_user_defs": false,
   "report_style_numbering": false,
   "user_envs_cfg": false
  }
 },
 "nbformat": 4,
 "nbformat_minor": 2
}
